{
  "nbformat": 4,
  "nbformat_minor": 0,
  "metadata": {
    "colab": {
      "provenance": []
    },
    "kernelspec": {
      "name": "python3",
      "display_name": "Python 3"
    },
    "language_info": {
      "name": "python"
    }
  },
  "cells": [
    {
      "cell_type": "markdown",
      "source": [
        "**LOGISTIC REGRESSION**"
      ],
      "metadata": {
        "id": "lNqS3T7ufg8K"
      }
    },
    {
      "cell_type": "code",
      "execution_count": 1,
      "metadata": {
        "colab": {
          "base_uri": "https://localhost:8080/"
        },
        "id": "7YTjxlku6G0o",
        "outputId": "0b6d07d5-df88-4334-a877-d034f97c8db0"
      },
      "outputs": [
        {
          "output_type": "stream",
          "name": "stdout",
          "text": [
            "Accuracy: 0.435\n",
            "Precision: 0.435\n",
            "Recall: 0.435\n",
            "F1-Score: 0.424\n",
            "Confusion Matrix:\n",
            "[[101  34  15   7   3   6]\n",
            " [ 45  51  35   6   9  12]\n",
            " [ 30  47  51   3   7  28]\n",
            " [  8   5  11  45  36  48]\n",
            " [  5   3   8  18  56  62]\n",
            " [  5   3   6  14  23 114]]\n"
          ]
        }
      ],
      "source": [
        "import pandas as pd\n",
        "from sklearn.model_selection import train_test_split\n",
        "from sklearn.feature_extraction.text import TfidfVectorizer\n",
        "from sklearn.pipeline import make_pipeline\n",
        "from sklearn.linear_model import LogisticRegression\n",
        "from sklearn.metrics import accuracy_score, precision_score, recall_score, f1_score, confusion_matrix\n",
        "# Load your dataset\n",
        "df = pd.read_csv('https://raw.githubusercontent.com/AdamMonroUnil/DSML/main/Data/training_data.csv')\n",
        "\n",
        "# Split the DataFrame into features (X) and target (y)\n",
        "# Replace 'text_column' and 'difficulty_column' with your actual column names\n",
        "X = df['sentence']\n",
        "y = df['difficulty']\n",
        "\n",
        "# Split the data into training and validation sets\n",
        "X_train, X_val, y_train, y_val = train_test_split(X, y, test_size=0.2, random_state=42)\n",
        "\n",
        "# Define a TF-IDF Vectorizer and Logistic Regression model\n",
        "text_transformer = TfidfVectorizer(ngram_range=(1, 2))\n",
        "model = LogisticRegression(max_iter=1000)\n",
        "\n",
        "# Create a pipeline\n",
        "pipeline = make_pipeline(text_transformer, model)\n",
        "\n",
        "# Train the model\n",
        "pipeline.fit(X_train, y_train)\n",
        "\n",
        "# Make predictions on the validation set\n",
        "y_pred = pipeline.predict(X_val)\n",
        "\n",
        "# Calculate metrics\n",
        "print(f\"Accuracy: {accuracy_score(y_val, y_pred):.3f}\")\n",
        "print(f\"Precision: {precision_score(y_val, y_pred, average='weighted'):.3f}\")\n",
        "print(f\"Recall: {recall_score(y_val, y_pred, average='weighted'):.3f}\")\n",
        "print(f\"F1-Score: {f1_score(y_val, y_pred, average='weighted'):.3f}\")\n",
        "\n",
        "# Confusion matrix\n",
        "print(\"Confusion Matrix:\")\n",
        "print(confusion_matrix(y_val, y_pred))\n",
        "\n",
        "# Load new test data\n",
        "to_predict = pd.read_csv('https://raw.githubusercontent.com/AdamMonroUnil/DSML/main/Data/unlabelled_test_data.csv')\n",
        "\n",
        "# Predict using the trained model\n",
        "predicted_difficulties = pipeline.predict(to_predict['sentence'])\n",
        "\n",
        "# Create a new DataFrame for submission\n",
        "submission = pd.DataFrame({\n",
        "    'id': to_predict['id'],  # Replace 'ID' with the actual ID column name if different\n",
        "    'difficulty': predicted_difficulties\n",
        "})\n",
        "\n",
        "# Save the submission DataFrame to a new CSV file\n",
        "submission.to_csv('submission_LR.csv', index=False)"
      ]
    },
    {
      "cell_type": "markdown",
      "source": [
        "**DECISION TREE**"
      ],
      "metadata": {
        "id": "EcDWwsTHffBy"
      }
    },
    {
      "cell_type": "code",
      "source": [
        "import pandas as pd\n",
        "from sklearn.model_selection import train_test_split\n",
        "from sklearn.feature_extraction.text import TfidfVectorizer\n",
        "from sklearn.pipeline import make_pipeline\n",
        "from sklearn.tree import DecisionTreeClassifier\n",
        "from sklearn.metrics import accuracy_score, precision_score, recall_score, f1_score, confusion_matrix\n",
        "\n",
        "# Load your dataset\n",
        "df = pd.read_csv('https://raw.githubusercontent.com/AdamMonroUnil/DSML/main/Data/training_data.csv')\n",
        "\n",
        "# Split the DataFrame into features (X) and target (y)\n",
        "X = df['sentence']\n",
        "y = df['difficulty']\n",
        "\n",
        "# Split the data into training and validation sets\n",
        "X_train, X_val, y_train, y_val = train_test_split(X, y, test_size=0.2, random_state=42)\n",
        "\n",
        "# Define a TF-IDF Vectorizer and Decision Tree model\n",
        "text_transformer = TfidfVectorizer(ngram_range=(1, 2))\n",
        "model = DecisionTreeClassifier()  # You can adjust parameters like max_depth, min_samples_split, etc.\n",
        "\n",
        "# Create a pipeline\n",
        "pipeline = make_pipeline(text_transformer, model)\n",
        "\n",
        "# Train the model\n",
        "pipeline.fit(X_train, y_train)\n",
        "\n",
        "# Make predictions on the validation set\n",
        "y_pred = pipeline.predict(X_val)\n",
        "\n",
        "# Calculate metrics\n",
        "print(f\"Accuracy: {accuracy_score(y_val, y_pred):.3f}\")\n",
        "print(f\"Precision: {precision_score(y_val, y_pred, average='weighted'):.3f}\")\n",
        "print(f\"Recall: {recall_score(y_val, y_pred, average='weighted'):.3f}\")\n",
        "print(f\"F1-Score: {f1_score(y_val, y_pred, average='weighted'):.3f}\")\n",
        "\n",
        "# Confusion matrix\n",
        "print(\"Confusion Matrix:\")\n",
        "print(confusion_matrix(y_val, y_pred))\n",
        "\n",
        "# Load new test data\n",
        "to_predict = pd.read_csv('https://raw.githubusercontent.com/AdamMonroUnil/DSML/main/Data/unlabelled_test_data.csv')\n",
        "\n",
        "# Predict using the trained model\n",
        "predicted_difficulties = pipeline.predict(to_predict['sentence'])\n",
        "\n",
        "# Create a new DataFrame for submission\n",
        "submission = pd.DataFrame({\n",
        "    'id': to_predict['id'],  # Replace 'ID' with the actual ID column name if different\n",
        "    'difficulty': predicted_difficulties\n",
        "})\n",
        "\n",
        "# Save the submission DataFrame to a new CSV file\n",
        "submission.to_csv('submission_DT.csv', index=False)\n"
      ],
      "metadata": {
        "colab": {
          "base_uri": "https://localhost:8080/"
        },
        "id": "8Rm5OF6Q6oxm",
        "outputId": "1bef2c2f-b917-47c4-985d-9a35019b34e0"
      },
      "execution_count": 2,
      "outputs": [
        {
          "output_type": "stream",
          "name": "stdout",
          "text": [
            "Accuracy: 0.274\n",
            "Precision: 0.270\n",
            "Recall: 0.274\n",
            "F1-Score: 0.265\n",
            "Confusion Matrix:\n",
            "[[94 38 14  9  5  6]\n",
            " [57 36 36 15  8  6]\n",
            " [48 39 36 18 11 14]\n",
            " [18 23 32 35 28 17]\n",
            " [17 26 27 23 33 26]\n",
            " [18 16 38 31 33 29]]\n"
          ]
        }
      ]
    },
    {
      "cell_type": "markdown",
      "source": [
        "**kNN**"
      ],
      "metadata": {
        "id": "ZyCMH0fFfz2q"
      }
    },
    {
      "cell_type": "code",
      "source": [
        "import pandas as pd\n",
        "from sklearn.model_selection import train_test_split\n",
        "from sklearn.feature_extraction.text import TfidfVectorizer\n",
        "from sklearn.pipeline import make_pipeline\n",
        "from sklearn.neighbors import KNeighborsClassifier\n",
        "from sklearn.metrics import accuracy_score, precision_score, recall_score, f1_score, confusion_matrix\n",
        "\n",
        "# Load your dataset\n",
        "df = pd.read_csv('https://raw.githubusercontent.com/AdamMonroUnil/DSML/main/Data/training_data.csv')\n",
        "\n",
        "# Split the DataFrame into features (X) and target (y)\n",
        "X = df['sentence']\n",
        "y = df['difficulty']\n",
        "\n",
        "# Split the data into training and validation sets\n",
        "X_train, X_val, y_train, y_val = train_test_split(X, y, test_size=0.2, random_state=42)\n",
        "\n",
        "# Define a TF-IDF Vectorizer and kNN model\n",
        "text_transformer = TfidfVectorizer(ngram_range=(1, 2))\n",
        "model = KNeighborsClassifier(n_neighbors=5)  # You can adjust the number of neighbors\n",
        "\n",
        "# Create a pipeline\n",
        "pipeline = make_pipeline(text_transformer, model)\n",
        "\n",
        "# Train the model\n",
        "pipeline.fit(X_train, y_train)\n",
        "\n",
        "# Make predictions on the validation set\n",
        "y_pred = pipeline.predict(X_val)\n",
        "\n",
        "# Calculate metrics\n",
        "print(f\"Accuracy: {accuracy_score(y_val, y_pred):.3f}\")\n",
        "print(f\"Precision: {precision_score(y_val, y_pred, average='weighted'):.3f}\")\n",
        "print(f\"Recall: {recall_score(y_val, y_pred, average='weighted'):.3f}\")\n",
        "print(f\"F1-Score: {f1_score(y_val, y_pred, average='weighted'):.3f}\")\n",
        "\n",
        "# Confusion matrix\n",
        "print(\"Confusion Matrix:\")\n",
        "print(confusion_matrix(y_val, y_pred))\n",
        "\n",
        "# Load new test data\n",
        "to_predict = pd.read_csv('https://raw.githubusercontent.com/AdamMonroUnil/DSML/main/Data/unlabelled_test_data.csv')\n",
        "# Predict using the trained model\n",
        "predicted_difficulties = pipeline.predict(to_predict['sentence'])\n",
        "\n",
        "# Create a new DataFrame for submission\n",
        "submission = pd.DataFrame({\n",
        "    'id': to_predict['id'],  # Replace 'ID' with the actual ID column name if different\n",
        "    'difficulty': predicted_difficulties\n",
        "})\n",
        "\n",
        "# Save the submission DataFrame to a new CSV file\n",
        "submission.to_csv('submission_kNN.csv', index=False)\n"
      ],
      "metadata": {
        "colab": {
          "base_uri": "https://localhost:8080/"
        },
        "id": "EO8DbfSQdzQh",
        "outputId": "637a077a-7f4b-47db-a96a-61db2099a9af"
      },
      "execution_count": 3,
      "outputs": [
        {
          "output_type": "stream",
          "name": "stdout",
          "text": [
            "Accuracy: 0.333\n",
            "Precision: 0.371\n",
            "Recall: 0.333\n",
            "F1-Score: 0.311\n",
            "Confusion Matrix:\n",
            "[[135  20   7   1   1   2]\n",
            " [ 88  45  13   2   5   5]\n",
            " [ 86  38  30   3   4   5]\n",
            " [ 44  32  14  40  13  10]\n",
            " [ 37  26  16  26  32  15]\n",
            " [ 37  28  23  27  12  38]]\n"
          ]
        }
      ]
    },
    {
      "cell_type": "markdown",
      "source": [
        "**RANDOM FOREST**"
      ],
      "metadata": {
        "id": "UjyXJvbugG-5"
      }
    },
    {
      "cell_type": "code",
      "source": [
        "import pandas as pd\n",
        "from sklearn.model_selection import train_test_split\n",
        "from sklearn.feature_extraction.text import TfidfVectorizer\n",
        "from sklearn.ensemble import RandomForestClassifier\n",
        "from sklearn.pipeline import make_pipeline\n",
        "from sklearn.model_selection import GridSearchCV\n",
        "from sklearn.metrics import accuracy_score, precision_score, recall_score, f1_score, confusion_matrix\n",
        "\n",
        "\n",
        "# Load your dataset\n",
        "df = pd.read_csv('https://raw.githubusercontent.com/AdamMonroUnil/DSML/main/Data/training_data.csv')\n",
        "\n",
        "# Split the DataFrame into features (X) and target (y)\n",
        "X = df['sentence']\n",
        "y = df['difficulty']\n",
        "\n",
        "# Split the data into training and validation sets\n",
        "X_train, X_val, y_train, y_val = train_test_split(X, y, test_size=0.2, random_state=42)\n",
        "\n",
        "# Define a TF-IDF Vectorizer\n",
        "text_transformer = TfidfVectorizer(ngram_range=(1, 2))\n",
        "\n",
        "# Using Random Forest Classifier\n",
        "model = RandomForestClassifier()\n",
        "\n",
        "# Create a pipeline\n",
        "pipeline = make_pipeline(text_transformer, model)\n",
        "\n",
        "# GridSearchCV settings for hyperparameter tuning\n",
        "param_grid = {\n",
        "    'randomforestclassifier__n_estimators': [100, 200],\n",
        "    'randomforestclassifier__max_depth': [None, 10, 20]\n",
        "}\n",
        "\n",
        "# Using GridSearchCV for hyperparameter tuning\n",
        "grid_search = GridSearchCV(pipeline, param_grid, cv=5, scoring='precision_weighted')\n",
        "\n",
        "# Fit the grid search to the data\n",
        "grid_search.fit(X_train, y_train)\n",
        "\n",
        "# Predictions and metrics on validation set\n",
        "y_pred = grid_search.predict(X_val)\n",
        "\n",
        "# Calculate metrics\n",
        "print(f\"Accuracy: {accuracy_score(y_val, y_pred):.3f}\")\n",
        "print(f\"Precision: {precision_score(y_val, y_pred, average='weighted'):.3f}\")\n",
        "print(f\"Recall: {recall_score(y_val, y_pred, average='weighted'):.3f}\")\n",
        "print(f\"F1-Score: {f1_score(y_val, y_pred, average='weighted'):.3f}\")\n",
        "\n",
        "# Confusion matrix\n",
        "print(\"Confusion Matrix:\")\n",
        "print(confusion_matrix(y_val, y_pred))\n",
        "\n",
        "\n",
        "# Load new test data\n",
        "to_predict = pd.read_csv('https://raw.githubusercontent.com/AdamMonroUnil/DSML/main/Data/unlabelled_test_data.csv')\n",
        "\n",
        "# Predict using the trained model\n",
        "predicted_difficulties = grid_search.predict(to_predict['sentence'])\n",
        "\n",
        "# Create a new DataFrame for submission\n",
        "submission2 = pd.DataFrame({\n",
        "    'id': to_predict['id'],\n",
        "    'difficulty': predicted_difficulties\n",
        "})\n",
        "\n",
        "# Save the submission DataFrame to a new CSV file\n",
        "submission2.to_csv('submission_RF.csv', index=False)\n"
      ],
      "metadata": {
        "colab": {
          "base_uri": "https://localhost:8080/"
        },
        "id": "p2AoU0_qgL7o",
        "outputId": "6136a4f9-8643-4644-9d28-26d941ef593f"
      },
      "execution_count": 5,
      "outputs": [
        {
          "output_type": "stream",
          "name": "stdout",
          "text": [
            "Accuracy: 0.373\n",
            "Precision: 0.404\n",
            "Recall: 0.373\n",
            "F1-Score: 0.352\n",
            "Confusion Matrix:\n",
            "[[145  13   4   3   1   0]\n",
            " [ 97  40  14   2   2   3]\n",
            " [ 80  35  39   5   6   1]\n",
            " [ 34  21  18  45  24  11]\n",
            " [ 33  14  16  36  39  14]\n",
            " [ 34  13  18  21  29  50]]\n"
          ]
        }
      ]
    }
  ]
}